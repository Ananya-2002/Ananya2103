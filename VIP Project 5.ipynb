{
 "cells": [
  {
   "cell_type": "markdown",
   "metadata": {},
   "source": [
    "# Rock Paper Scissor"
   ]
  },
  {
   "cell_type": "raw",
   "metadata": {},
   "source": [
    "following are the winning rules for the game:\n",
    "Rock vs paper-> paper wins\n",
    "Rock vs scissor-> Rock wins\n",
    "Paper vs scissor-> scissor wins"
   ]
  },
  {
   "cell_type": "code",
   "execution_count": 1,
   "metadata": {},
   "outputs": [],
   "source": [
    "#Import random\n",
    "import random"
   ]
  },
  {
   "cell_type": "code",
   "execution_count": 2,
   "metadata": {},
   "outputs": [],
   "source": [
    "#Creating a list\n",
    "possible_options=['Rock','Paper','Scissor']\n",
    " "
   ]
  },
  {
   "cell_type": "code",
   "execution_count": 3,
   "metadata": {},
   "outputs": [],
   "source": [
    "#Computer options\n",
    "computer_options=random.choice(possible_options)"
   ]
  },
  {
   "cell_type": "code",
   "execution_count": 4,
   "metadata": {},
   "outputs": [
    {
     "name": "stdout",
     "output_type": "stream",
     "text": [
      "Select an option from the following: \n",
      ". Rock \n",
      ". Paper \n",
      ". Scissor\n",
      "Select an Option:(Rock,Paper,Scissor)Rock\n",
      "The Choices of the Player and computer are as follows: \n",
      ".Players Choice: Rock \n",
      ".Computers Choice: Scissor\n",
      "Rock breaks the Scissor! \n",
      ".Player wins \n",
      ".Computer loses\n"
     ]
    }
   ],
   "source": [
    "#Code for the game is as follows:\n",
    "#Players Choice\n",
    "print('Select an option from the following: \\n. Rock \\n. Paper \\n. Scissor')\n",
    "players_choice=input('Select an Option:(Rock,Paper,Scissor)')\n",
    "\n",
    "#Computers Choice:\n",
    "computers_choice=random.choice(possible_options)\n",
    "\n",
    "#A summary of the choices:\n",
    "print('The Choices of the Player and computer are as follows: \\n.Players Choice:',players_choice,'\\n.Computers Choice:',computers_choice)\n",
    "\n",
    "#Winning Conditions using if else statements:\n",
    "if players_choice==computers_choice:\n",
    "    print('Its a tie!')\n",
    "elif players_choice=='Rock':\n",
    "    if computers_choice=='Scissor':\n",
    "        print('Rock breaks the Scissor! \\n.Player wins \\n.Computer loses')\n",
    "    else:\n",
    "        print('Paper covers rock! \\n.Player loses \\n.Computer wins')\n",
    "elif players_choice=='Paper':\n",
    "    if computers_choice=='Rock':\n",
    "        print('Paper covers rock! \\n.Player wins \\n.Computer loses')\n",
    "    else:\n",
    "        print('Scissor cuts paper \\n.Player loses \\n. Computer wins')\n",
    "elif players_choice=='Scissor':\n",
    "    if computers_choice=='Rock':\n",
    "        print('Rock breaks the Scissor! \\n.Player loses \\n.Computer wins')\n",
    "    else:\n",
    "        print('Scissor cuts paper \\n.Player wins \\n. Computer loses' )\n",
    "\n"
   ]
  },
  {
   "cell_type": "code",
   "execution_count": 5,
   "metadata": {},
   "outputs": [
    {
     "name": "stdout",
     "output_type": "stream",
     "text": [
      "Select an option from the following: \n",
      ". Rock \n",
      ". Paper \n",
      ". Scissor\n",
      "Select an Option:(Rock,Paper,Scissor)Rock\n",
      "The Choices of the Player and computer are as follows: \n",
      ".Players Choice: Rock \n",
      ".Computers Choice: Scissor\n",
      "Rock breaks the Scissor! \n",
      ".Player wins \n",
      ".Computer loses\n",
      "Do You wish to play again (yes/no)?yes\n",
      "Select an option from the following: \n",
      ". Rock \n",
      ". Paper \n",
      ". Scissor\n",
      "Select an Option:(Rock,Paper,Scissor)Paper\n",
      "The Choices of the Player and computer are as follows: \n",
      ".Players Choice: Paper \n",
      ".Computers Choice: Paper\n",
      "Its a tie!\n",
      "Do You wish to play again (yes/no)?no\n",
      "Thank you for playing!\n"
     ]
    }
   ],
   "source": [
    "#Making the game continuous using while loop\n",
    "while True:\n",
    "    print('Select an option from the following: \\n. Rock \\n. Paper \\n. Scissor')\n",
    "    players_choice=input('Select an Option:(Rock,Paper,Scissor)')\n",
    "\n",
    "#Computers Choice:\n",
    "    computers_choice=random.choice(possible_options)\n",
    "\n",
    "#A summary of the choices:\n",
    "    print('The Choices of the Player and computer are as follows: \\n.Players Choice:',players_choice,'\\n.Computers Choice:',computers_choice)\n",
    "\n",
    "#Winning Conditions using if else statements:\n",
    "    if players_choice==computers_choice:\n",
    "        print('Its a tie!')\n",
    "    elif players_choice=='Rock':\n",
    "        if computers_choice=='Scissor':\n",
    "            print('Rock breaks the Scissor! \\n.Player wins \\n.Computer loses')\n",
    "        else:\n",
    "            print('Paper covers rock! \\n.Player loses \\n.Computer wins')\n",
    "    elif players_choice=='Paper':\n",
    "        if computers_choice=='Rock':\n",
    "            print('Paper covers rock! \\n.Player wins \\n.Computer loses')\n",
    "        else:\n",
    "            print('Scissor cuts paper \\n.Player loses \\n. Computer wins')\n",
    "    elif players_choice=='Scissor':\n",
    "        if computers_choice=='Rock':\n",
    "            print('Rock breaks the Scissor! \\n.Player loses \\n.Computer wins')\n",
    "        else:\n",
    "            print('Scissor cuts paper \\n.Player wins \\n. Computer loses' )\n",
    "            \n",
    "    play_again=input('Do You wish to play again (yes/no)?')\n",
    "    if play_again=='no':\n",
    "        print('Thank you for playing!')\n",
    "        break\n",
    "        \n",
    "\n",
    "\n",
    "    \n"
   ]
  },
  {
   "cell_type": "code",
   "execution_count": null,
   "metadata": {},
   "outputs": [],
   "source": []
  },
  {
   "cell_type": "raw",
   "metadata": {},
   "source": [
    "\n"
   ]
  },
  {
   "cell_type": "code",
   "execution_count": null,
   "metadata": {},
   "outputs": [],
   "source": []
  }
 ],
 "metadata": {
  "kernelspec": {
   "display_name": "Python 3 (ipykernel)",
   "language": "python",
   "name": "python3"
  },
  "language_info": {
   "codemirror_mode": {
    "name": "ipython",
    "version": 3
   },
   "file_extension": ".py",
   "mimetype": "text/x-python",
   "name": "python",
   "nbconvert_exporter": "python",
   "pygments_lexer": "ipython3",
   "version": "3.9.7"
  }
 },
 "nbformat": 4,
 "nbformat_minor": 4
}
